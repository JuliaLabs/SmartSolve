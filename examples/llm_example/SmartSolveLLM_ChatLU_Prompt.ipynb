{
  "cells": [
    {
      "cell_type": "code",
      "execution_count": null,
      "metadata": {
        "colab": {
          "base_uri": "https://localhost:8080/"
        },
        "id": "s8LJ-vmGGOIG",
        "outputId": "481ed31e-598a-4060-bed0-0d42f1e92e80"
      },
      "outputs": [
        {
          "output_type": "execute_result",
          "data": {
            "text/plain": [
              "format_test_prompt (generic function with 1 method)"
            ]
          },
          "metadata": {},
          "execution_count": 75
        }
      ],
      "source": [
        "# Format dataset into a concise prompt\n",
        "function format_test_prompt(data::DataFrame, test_data::DataFrame, algorithms)\n",
        "    train_rows = eachrow(data)\n",
        "    test_data_no_alg = select(test_data, Not(:algorithm))\n",
        "\n",
        "    excluded = Set([\"algorithm\", \"pattern\", \"time\"])\n",
        "    features = [Symbol(col) for col in names(data) if !(col in excluded)]\n",
        "\n",
        "    # Guideline 1 of the prompt, provide the LLM with its role\n",
        "    prompt = \"\"\"\n",
        "    You are an expert in matrix factorization. Below is a dataset with matrix features (e.g., size, rank, sparsity, etc.)\n",
        "    and the best algorithm for each matrix.\n",
        "\n",
        "    Training Dataset Examples:\n",
        "    \"\"\"\n",
        "\n",
        "    # Guideline 2 of the prompt, include SmartSolve performance databse\n",
        "    # Add few-shot examples\n",
        "    for row in train_rows\n",
        "        nt = NamedTuple(row)\n",
        "        filtered = (; (k => v for (k, v) in nt if k in features)...)\n",
        "        prompt *= \"\\nMatrix: $(JSON3.write(filtered)) → Algorithm: $(row.algorithm)\"\n",
        "    end\n",
        "    # Add test matrix inputs\n",
        "    # Guideline 3 of the prompt, ask the LLM to analyze the database according to a set of limitations\n",
        "    prompt *= \"\"\"\n",
        "\n",
        "    Now, predict the best algorithm for each of the following $(nrow(test_data)) new matrices.\n",
        "\n",
        "    ⚠️ Only use one of these algorithms: $(join(algorithms, \", \"))\n",
        "    ⚠️ Do NOT use any other algorithm names (e.g., no variants like \"sklumt\", \"arpack\", \"clapack\")\n",
        "\n",
        "    Test Matrices:\n",
        "    \"\"\"\n",
        "\n",
        "    for (i, row) in enumerate(eachrow(test_data_no_alg))\n",
        "        prompt *= \"\\nMatrix $i: $(JSON3.write(NamedTuple(row)))\"\n",
        "    end\n",
        "\n",
        "    # Final instruction block\n",
        "    prompt *= \"\"\"\n",
        "\n",
        "    Output only a comma-separated list of the predicted algorithm names in order, one per test matrix.\n",
        "    Do NOT include matrix numbers, explanations, or extra text.\n",
        "\n",
        "    ⚠️ Repeat: Output must be a comma-separated list of exactly $(nrow(test_data)) predictions.\n",
        "    ⚠️ Only use one of: $(join([\"\\\"$a\\\"\" for a in algorithms], \", \"))\n",
        "    ⚠️ No text, no variants, no labels. Just: klu, dgetrf, umfpack, ...\n",
        "    \"\"\"\n",
        "\n",
        "    return prompt\n",
        "end"
      ]
    },
    {
      "cell_type": "code",
      "execution_count": null,
      "metadata": {
        "colab": {
          "base_uri": "https://localhost:8080/"
        },
        "id": "EbzEx51qNY6V",
        "outputId": "c80f3792-d4f2-45c8-914f-06fd88ec05b7"
      },
      "outputs": [
        {
          "output_type": "execute_result",
          "data": {
            "text/plain": [
              "format_heuristic_prompt (generic function with 1 method)"
            ]
          },
          "metadata": {},
          "execution_count": 8
        }
      ],
      "source": [
        "# Format heuristic prompt\n",
        "function format_heuristic_prompt(data::DataFrame, algorithms)\n",
        "    excluded = Set([\"algorithm\", \"pattern\", \"time\"])\n",
        "    features = [Symbol(col) for col in names(data) if !(col in excluded)]\n",
        "\n",
        "    full_data = JSON3.write(data)\n",
        "\n",
        "    feature_list = join(features, \", \")\n",
        "    feature_gets = join([\"    $(s) = get(kwargs, :$(s), missing)\" for s in features], \"\\n\")\n",
        "\n",
        "    # Guideline 1 of the prompt, provide the LLM with its role\n",
        "\n",
        "    prompt = \"\"\"\n",
        "    You are an expert in matrix factorization.\"\"\"\n",
        "\n",
        "    # Guideline 2 of the prompt, include SmartSolve performance databse\n",
        "\n",
        "    prompt *= \"\"\"Below is a dataset with matrix features ($feature_list)\n",
        "    and the best algorithm $algorithms for each matrix.\n",
        "\n",
        "    Dataset: $full_data\n",
        "    \"\"\"\n",
        "\n",
        "    # Guideline 3 of the prompt, ask the LLM to analyze the database and generate the heuristic according to a set of limitations\n",
        "\n",
        "    prompt *= \"\"\"\n",
        "    Using the dataset provided, please create a heuristic that I can use to find the optimal matrix factorization algorithm\n",
        "    for any combination of input matrix features. The heuristic must cover all algorithms from the dataset: $(join(algorithms, \", \")).\n",
        "    Ensure that each algorithm has a well-defined region in the feature space. Do not omit any algorithms or suggest only one algorithm.\n",
        "\n",
        "    Please follow these steps:\n",
        "    1. Analyze the dataset to understand how each algorithm performs under different feature conditions.\n",
        "    2. Identify clear boundaries where one algorithm consistently outperforms others.\n",
        "    3. Create a heuristic using numerical rules that covers all algorithms.\n",
        "    4. Provide clear, readable guidelines for selecting the optimal algorithm for any given matrix feature set.\n",
        "    5. Ensure the heuristic covers all algorithms in the dataset, without suggesting any placeholder or alternative algorithms.\n",
        "\n",
        "    ### Important Instructions for the Julia Code:\n",
        "\n",
        "    - You must implement the heuristic as a Julia function using this exact signature:\n",
        "        ```julia\n",
        "        function choose_algorithm(; kwargs...)::String\n",
        "        ```\n",
        "    - Inside the function, access each matrix feature using the `get` function:\n",
        "        ```julia\n",
        "    $feature_gets\n",
        "        ```\n",
        "    - Do **not** use named parameters in the function signature (e.g., `; sparsity=...` is not allowed).\n",
        "    - Use `if/elseif/else` logic to express the heuristic clearly.\n",
        "\n",
        "    - You must return **only one** of the following algorithms, as a string literal: $algorithms\n",
        "    - Do **not** modify or extend algorithm names (e.g., avoid returning `\"umfpack_triangular\"` instead of `\"umfpack\"`).\n",
        "    - Each `return` statement must use **only one** of the allowed strings exactly as written above.\n",
        "\n",
        "    - Note: Some feature names may suggest Boolean values (e.g., `issymmetric`, `ishermitian`, `isreal`), but in the dataset, they are represented as numeric indicators (e.g., 0 or 1). Do **not** treat them as Booleans — instead, compare them numerically using expressions like `issymmetric == 1`.\n",
        "\n",
        "    - Do **not** use logic like `if issymmetric` — this is incorrect. Always use explicit comparisons like `if issymmetric == 1`.\n",
        "\n",
        "    Your output should include:\n",
        "    1. A plain-language explanation of the heuristic rules.\n",
        "    2. The complete Julia code using the structure above.\n",
        "    \"\"\"\n",
        "\n",
        "    return prompt\n",
        "end"
      ]
    }
  ],
  "metadata": {
    "colab": {
      "provenance": [],
      "gpuType": "T4"
    },
    "kernelspec": {
      "display_name": "Julia",
      "name": "julia"
    },
    "language_info": {
      "name": "julia"
    },
    "accelerator": "GPU"
  },
  "nbformat": 4,
  "nbformat_minor": 0
}